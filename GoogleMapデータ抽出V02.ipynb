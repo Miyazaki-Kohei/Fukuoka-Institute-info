{
 "cells": [
  {
   "cell_type": "markdown",
   "metadata": {
    "id": "ztPjSt4bEfTo"
   },
   "source": [
    "## ループで福岡全域のデータを取得"
   ]
  },
  {
   "cell_type": "code",
   "execution_count": 5,
   "metadata": {
    "id": "mssMY29DbdAY"
   },
   "outputs": [],
   "source": [
    "import requests\n",
    "import json\n",
    "import pandas as pd\n",
    "import time\n",
    "import numpy as np\n",
    "\n",
    "\n",
    "#地点名から緯度と経度を取得する関数\n",
    "def Get_GioCode(place, api_key):\n",
    "    # url = 'https://maps.googleapis.com/maps/api/geocode/json?address={}&key={}'.format(place, api_key)\n",
    "    # response = requests.get(url)\n",
    "    # data = json.loads(response.text)\n",
    "    # latitude = data['results'][0]['geometry']['location']['lat']\n",
    "    # longitude = data['results'][0]['geometry']['location']['lng']\n",
    "    # location = str(latitude) + ',' + str(longitude)\n",
    "    # return location\n",
    "    url = 'https://maps.googleapis.com/maps/api/geocode/json'\n",
    "    params = {'address': place, 'key': api_key}\n",
    "    res = requests.get(url, params=params)\n",
    "    data = res.json()\n",
    "    # 緯度と経度を取得\n",
    "    lat = data['results'][0]['geometry']['location']['lat']\n",
    "    lng = data['results'][0]['geometry']['location']['lng']\n",
    "    location = str(lat) + ',' +str(lng)\n",
    "    return location\n",
    "\n",
    "#条件から周辺施設を検索する関数\n",
    "def Get_GioData(location, keyword, api_key, radius=50000):\n",
    "    result = []\n",
    "    next_page_token = None\n",
    "    while True:\n",
    "        if next_page_token:\n",
    "            time.sleep(3)\n",
    "            url = f'https://maps.googleapis.com/maps/api/place/nearbysearch/json?location={location}&radius={radius}&keyword={keyword}&language=ja&key={api_key}&pagetoken={next_page_token}'\n",
    "        else:\n",
    "            time.sleep(3)\n",
    "            url = f'https://maps.googleapis.com/maps/api/place/nearbysearch/json?location={location}&radius={radius}&keyword={keyword}&language=ja&key={api_key}'\n",
    "        response = requests.get(url)\n",
    "        data = response.json()\n",
    "        result += data['results']\n",
    "        next_page_token = data.get('next_page_token')\n",
    "        if not next_page_token:\n",
    "            break\n",
    "    return result"
   ]
  },
  {
   "cell_type": "markdown",
   "metadata": {
    "id": "lSCHbc8Qy2c9"
   },
   "source": [
    "## コーディング"
   ]
  },
  {
   "cell_type": "code",
   "execution_count": 7,
   "metadata": {
    "id": "7xSjrBo7DwCn"
   },
   "outputs": [],
   "source": [
    "# Google PlaceのAPIキーを入力\n",
    "api_key = ''\n",
    "\n",
    "#k検索する地点名の候補をリストに渡す\n",
    "# location_name = ['博多駅', '西鉄天神駅','西鉄大橋駅','福岡自動車運転免許試験場','南福岡特別支援学校','福工大前駅','福岡市 貝塚駅',\n",
    "#                  '博多南駅','マリンワールド' ,'唐人町駅','ビッグモーター西福岡店', '福岡市立早良中学校','福岡市 青葉公園','福岡市 西部運動公園',\n",
    "#                  '姪浜駅', '九大学研都市駅', '福大前駅', '福岡海釣り公園', '博多の森','南福岡駅' ]\n",
    "\n",
    "lat_range = [33.5, 33.6]\n",
    "lng_range = [130.25, 130.5]\n",
    "\n",
    "lat_grid, lng_grid = np.meshgrid(np.linspace(lat_range[0], lat_range[1], num=6), np.linspace(lng_range[0], lng_range[1], num=6))\n",
    "\n",
    "#検索地点からの検索範囲を設定(m)\n",
    "radius = 3000 \n",
    "\n",
    "#今回の検索したい施設のキーワードを入力\n",
    "keyword = 'ジム'\n",
    "\n",
    "#検索した後に整形した必要なデータの格納先\n",
    "result_dic_data = []\n",
    "\n",
    "# 博多駅の座標を取得\n",
    "for i in range(lat_grid.shape[0]):\n",
    "    for j in range(lng_grid.shape[1]):\n",
    "        location = str(lat_grid[i,j]) + ',' + str(lng_grid[i,j])\n",
    "        results = Get_GioData(location, keyword, api_key, radius)\n",
    "\n",
    "    #抽出データから必要なカラムを辞書形式で取得   \n",
    "        for result in results:\n",
    "            place = {}\n",
    "            place[\"name\"] = result[\"name\"]\n",
    "            place[\"address\"] = result[\"vicinity\"]\n",
    "            place[\"lat\"] = result[\"geometry\"][\"location\"][\"lat\"]\n",
    "            place[\"lng\"] = result[\"geometry\"][\"location\"][\"lng\"]\n",
    "            place['rating'] = result['rating']\n",
    "            place['user_ratings_total'] = result['user_ratings_total']\n",
    "            result_dic_data.append(place)\n",
    "\n",
    "#データフレームに変換\n",
    "df = pd.DataFrame(result_dic_data)\n",
    "\n",
    "#住所情報から市と区のカラムを取得\n",
    "df[\"city\"] = df[\"address\"].apply(lambda x: x.split(\"市\")[0] if \"市\" in x else None)\n",
    "df[\"district\"] = df[\"address\"].apply(lambda x: x.split(\"区\")[0].split(\"市\")[-1] if \"区\" in x else None)\n",
    "df['city-district'] = '福岡市' + df['district'] + '区'\n",
    "df['search_word'] = keyword\n",
    "\n",
    "#検索で出た重複を排除\n",
    "df = df.drop_duplicates('name').reset_index(drop=True)\n",
    "\n",
    "\n",
    "#csvファイルに出力\n",
    "df.to_csv('福岡市周辺の' + keyword + 'に関する位置情報.csv')"
   ]
  },
  {
   "cell_type": "code",
   "execution_count": 317,
   "metadata": {
    "id": "XG6d-njbyluT"
   },
   "outputs": [],
   "source": [
    "extrct_example = {'business_status': 'OPERATIONAL',\n",
    " 'geometry': {'location': {'lat': 33.5928065, 'lng': 130.3855521},\n",
    "  'viewport': {'northeast': {'lat': 33.59412092989271,\n",
    "    'lng': 130.3871242798927},\n",
    "   'southwest': {'lat': 33.59142127010727, 'lng': 130.3844246201072}}},\n",
    " 'icon': 'https://maps.gstatic.com/mapfiles/place_api/icons/v1/png_71/generic_business-71.png',\n",
    " 'icon_background_color': '#7B9EB0',\n",
    " 'icon_mask_base_uri': 'https://maps.gstatic.com/mapfiles/place_api/icons/v2/generic_pinlet',\n",
    " 'name': '福岡市中央区24時間営業パーソナルジム【VISION24 福岡天神店】',\n",
    " 'opening_hours': {'open_now': True},\n",
    " 'photos': [{'height': 3888,\n",
    "   'html_attributions': ['<a href=\"https://maps.google.com/maps/contrib/102376585050495911523\">A Google User</a>'],\n",
    "   'photo_reference': 'AfLeUgNpwUPchx0Q45qhb0chkiJ9Cbe0IDNd0KvuEFGj807adaxSHcAwjkf4xl0aqxGOi4fFp4DY4YiYRdBaYihL3EwuhUHkhXMNW5LhZ1tEjTddF0ExMV94-K2Zqeu6KbeaR-kHaiNrZ1ZN1sD903ymlWrwaryhnKbWBiPO20htG9e7sDvF',\n",
    "   'width': 5184}],\n",
    " 'place_id': 'ChIJ_WZOWBGTQTUROlTqEPeYdjQ',\n",
    " 'plus_code': {'compound_code': 'H9VP+46 福岡市, 日本、福岡県',\n",
    "  'global_code': '8Q5GH9VP+46'},\n",
    " 'rating': 4.8,\n",
    " 'reference': 'ChIJ_WZOWBGTQTUROlTqEPeYdjQ',\n",
    " 'scope': 'GOOGLE',\n",
    " 'types': ['gym', 'health', 'store', 'point_of_interest', 'establishment'],\n",
    " 'user_ratings_total': 269,\n",
    " 'vicinity': '福岡市中央区港１丁目１０−５ キテラタウン長浜 ３F'}"
   ]
  },
  {
   "cell_type": "markdown",
   "metadata": {
    "id": "Dlvx5jVGKAHJ"
   },
   "source": [
    "## Appendix"
   ]
  },
  {
   "cell_type": "code",
   "execution_count": 323,
   "metadata": {
    "id": "VOXFqRRbxw87"
   },
   "outputs": [],
   "source": [
    "import requests\n",
    "import pandas as pd\n",
    "\n",
    "\n",
    "#地点検索の緯度と経度のデータフレーム\n",
    "latitude = []\n",
    "longitude = []\n",
    "\n",
    "for place in location_name:\n",
    "    url = f\"https://maps.googleapis.com/maps/api/geocode/json?address={place}&key={api_key}\"\n",
    "    response = requests.get(url).json()\n",
    "    latitude.append(response['results'][0]['geometry']['location']['lat'])\n",
    "    longitude.append(response['results'][0]['geometry']['location']['lng'])\n",
    "\n",
    "df_loc = pd.DataFrame({'latitude': latitude, 'longitude': longitude, 'place_name':location_name})\n",
    "\n",
    "df_loc.to_csv('検索地点の情報.csv')"
   ]
  },
  {
   "cell_type": "code",
   "execution_count": null,
   "metadata": {
    "id": "YncK-zqNKu2P"
   },
   "outputs": [],
   "source": []
  }
 ],
 "metadata": {
  "colab": {
   "provenance": []
  },
  "kernelspec": {
   "display_name": "Python 3",
   "language": "python",
   "name": "python3"
  },
  "language_info": {
   "codemirror_mode": {
    "name": "ipython",
    "version": 3
   },
   "file_extension": ".py",
   "mimetype": "text/x-python",
   "name": "python",
   "nbconvert_exporter": "python",
   "pygments_lexer": "ipython3",
   "version": "3.7.6"
  }
 },
 "nbformat": 4,
 "nbformat_minor": 4
}
