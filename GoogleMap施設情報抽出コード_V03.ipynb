{
  "cells": [
    {
      "cell_type": "markdown",
      "metadata": {
        "id": "ztPjSt4bEfTo"
      },
      "source": [
        "# ループである地域範囲の住所データを取得"
      ]
    },
    {
      "cell_type": "markdown",
      "source": [
        "## ライブラリのインポート、API設定、関数定義"
      ],
      "metadata": {
        "id": "N-qlepmN1nWY"
      }
    },
    {
      "cell_type": "code",
      "execution_count": 98,
      "metadata": {
        "id": "mssMY29DbdAY"
      },
      "outputs": [],
      "source": [
        "import requests\n",
        "import json\n",
        "import pandas as pd\n",
        "import time\n",
        "import numpy as np\n",
        "\n",
        "\n",
        "# Google PlaceのAPIキーを入力\n",
        "api_key = '認証したAPIキーを入力'\n",
        "\n",
        "\n",
        "#緯度と経度と地点分割粒度から最適な検索半径を抽出する関数\n",
        "def set_radius(lat_range, lng_range, lat_seg_num, lng_seg_num):\n",
        "    if (lat_range[1] - lat_range[0])  * 110904 / ((lat_seg_num -1) ) >= (lng_range[1] - lng_range[0])  * 93452 / ((lng_seg_num -1) ):\n",
        "        return np.round((lat_range[1] - lat_range[0])  * 110904 * np.sqrt(2) / ((lat_seg_num -1) * 2), -2)\n",
        "    else:\n",
        "        return np.round((lng_range[1] - lng_range[0])  * 93452 * np.sqrt(2) / ((lng_seg_num -1) * 2), -2)\n",
        "\n",
        "\n",
        "#条件から周辺施設を検索する関数\n",
        "def Get_GioData(location, keyword, api_key, radius=50000):\n",
        "    result = []\n",
        "    next_page_token = None\n",
        "    while True:\n",
        "        if next_page_token:\n",
        "            time.sleep(3)\n",
        "            url = f'https://maps.googleapis.com/maps/api/place/nearbysearch/json?location={location}&radius={radius}&keyword={keyword}&language=ja&key={api_key}&pagetoken={next_page_token}'\n",
        "        else:\n",
        "            time.sleep(3)\n",
        "            url = f'https://maps.googleapis.com/maps/api/place/nearbysearch/json?location={location}&radius={radius}&keyword={keyword}&language=ja&key={api_key}'\n",
        "        response = requests.get(url)\n",
        "        data = response.json()\n",
        "        result += data['results']\n",
        "        next_page_token = data.get('next_page_token')\n",
        "        if not next_page_token:\n",
        "            break\n",
        "    return result"
      ]
    },
    {
      "cell_type": "markdown",
      "metadata": {
        "id": "lSCHbc8Qy2c9"
      },
      "source": [
        "## コーディング"
      ]
    },
    {
      "cell_type": "markdown",
      "source": [
        "\n",
        "\n",
        "###Case1.   　経度,緯度の範囲から検索施設情報の検索（１単語）\n",
        "\n"
      ],
      "metadata": {
        "id": "OJTTa98S2BVE"
      }
    },
    {
      "cell_type": "markdown",
      "source": [
        "\n",
        "\n",
        "　　　1.1   パラメーター設定\n",
        "\n"
      ],
      "metadata": {
        "id": "eGAaju27kfhq"
      }
    },
    {
      "cell_type": "code",
      "source": [
        "#今回の検索したい施設のキーワードを入力\n",
        "keyword = 'コンビニ'\n",
        "\n",
        "#福岡市おおよその緯度と経度を指定(URL:https://nlftp.mlit.go.jp/cgi-bin/isj/dls/_choose_method.cgi)のデータを参照\n",
        "lat_range = [33.45, 33.7]\n",
        "lng_range = [130.22, 130.47]\n",
        "\n",
        "#緯度方向,経度方向にそれぞれ何分割してサンプリングするかを指定(数が大きいほど細かくサンプリングできるが、API使用料金の上限に注意する必要あり)\n",
        "lat_seg_num= 6\n",
        "lng_seg_num = 6"
      ],
      "metadata": {
        "colab": {
          "base_uri": "https://localhost:8080/"
        },
        "id": "7ZoY6nIQk-nQ",
        "outputId": "1b745a26-8be0-474a-e009-41113ff310f3"
      },
      "execution_count": 74,
      "outputs": [
        {
          "output_type": "stream",
          "name": "stdout",
          "text": [
            "1800.0\n"
          ]
        }
      ]
    },
    {
      "cell_type": "markdown",
      "source": [
        "\n",
        "\n",
        "　　　1.2   データ抽出\n",
        "\n"
      ],
      "metadata": {
        "id": "kdqpV5fvks1L"
      }
    },
    {
      "cell_type": "code",
      "source": [
        "#パラメーターを関数に渡し検索地点からの検索範囲を最適化\n",
        "radius = set_radius(lat_range, lng_range, lat_seg_num, lng_seg_num)\n",
        "\n",
        "#緯度,経度の範囲地点を配列に格納\n",
        "lat_grid, lng_grid = np.meshgrid(np.linspace(lat_range[0], lat_range[1], num=lat_seg_num), np.linspace(lng_range[0], lng_range[1], num=lng_seg_num))\n",
        "\n",
        "\n",
        "#データ抽出の格納先\n",
        "result_dic_data = []\n",
        "\n",
        "#各地点ごとにループを回して検索をかけていく\n",
        "for i in range(lat_grid.shape[0]):\n",
        "    for j in range(lng_grid.shape[1]):\n",
        "        location = str(lat_grid[i,j]) + ',' + str(lng_grid[i,j])\n",
        "        #必要なパラメータを関数に入力しデータ抽出\n",
        "        results = Get_GioData(location, keyword, api_key, radius)\n",
        "\n",
        "    #抽出データから必要なカラムを辞書形式で取得   \n",
        "        for result in results:\n",
        "            place = {}\n",
        "            place[\"name\"] = result[\"name\"]\n",
        "            place[\"address\"] = result[\"vicinity\"]\n",
        "            place[\"lat\"] = result[\"geometry\"][\"location\"][\"lat\"]\n",
        "            place[\"lng\"] = result[\"geometry\"][\"location\"][\"lng\"]\n",
        "            place['rating'] = result['rating']\n",
        "            place['user_ratings_total'] = result['user_ratings_total']\n",
        "            result_dic_data.append(place)\n",
        "\n",
        "#データフレームに変換\n",
        "df = pd.DataFrame(result_dic_data)\n",
        "\n",
        "#住所情報から市と区のカラムを取得\n",
        "df[\"city\"] = df[\"address\"].apply(lambda x: x.split(\"市\")[0] if \"市\" in x else None)\n",
        "df[\"district\"] = df[\"address\"].apply(lambda x: x.split(\"区\")[0].split(\"市\")[-1] if \"区\" in x else None)\n",
        "df['city-district'] = '福岡市' + df['district'] + '区'\n",
        "df['search_word'] = keyword\n",
        "\n",
        "#検索で出た重複を排除\n",
        "df = df.drop_duplicates('name').reset_index(drop=True)\n",
        "\n",
        "\n",
        "#キーワードごとにcsvファイルに出力\n",
        "df.to_csv('福岡市周辺の' + keyword + 'に関する位置情報.csv')"
      ],
      "metadata": {
        "id": "s0WY5RLZknOG"
      },
      "execution_count": 18,
      "outputs": []
    },
    {
      "cell_type": "markdown",
      "source": [
        "\n",
        "###Case2.   　経度,緯度の範囲から検索施設情報の検索（複数単語）"
      ],
      "metadata": {
        "id": "7nPuDQiu2VHw"
      }
    },
    {
      "cell_type": "markdown",
      "source": [
        "\n",
        "\n",
        "2.1   パラメーター設定\n",
        "\n"
      ],
      "metadata": {
        "id": "4eRoXfAL1WVB"
      }
    },
    {
      "cell_type": "code",
      "source": [
        "#今回の検索したい施設のキーワードをリスト形式で入力\n",
        "keyword_list = ['ジム', '動物病院' ]\n",
        "\n",
        "#福岡市おおよその緯度と経度を指定(URL:https://nlftp.mlit.go.jp/cgi-bin/isj/dls/_choose_method.cgi)のデータを参照\n",
        "lat_range = [33.45, 33.7]\n",
        "lng_range = [130.22, 130.47]\n",
        "\n",
        "#緯度方向,経度方向にそれぞれ何分割してサンプリングするかを指定(数が大きいほど細かくサンプリングできるが、API使用料金の上限に注意する必要あり)\n",
        "lat_seg_num= 6\n",
        "lng_seg_num = 6"
      ],
      "metadata": {
        "id": "Ksrdg2O2Sst4"
      },
      "execution_count": 7,
      "outputs": []
    },
    {
      "cell_type": "markdown",
      "source": [
        "\n",
        "\n",
        "2. 2   データ抽出\n",
        "\n"
      ],
      "metadata": {
        "id": "GgxzUIVv1M8U"
      }
    },
    {
      "cell_type": "code",
      "execution_count": 6,
      "metadata": {
        "id": "7xSjrBo7DwCn"
      },
      "outputs": [],
      "source": [
        "\n",
        "# 検索キーワードについて福岡市全域で検索をかけてデータを集計していく\n",
        "for word in keyword_list:\n",
        "    #検索したデータの格納先\n",
        "    result_dic_data = []\n",
        "    #各地点ごとにループを回して検索をかけていく\n",
        "    for i in range(lat_grid.shape[0]):\n",
        "        for j in range(lng_grid.shape[1]):\n",
        "            location = str(lat_grid[i,j]) + ',' + str(lng_grid[i,j])\n",
        "            #必要なパラメータを関数に入力しデータ抽出\n",
        "            results = Get_GioData(location, word, api_key, radius)\n",
        "\n",
        "        #抽出データから必要なカラムを辞書形式で取得   \n",
        "            for result in results:\n",
        "                place = {}\n",
        "                place[\"name\"] = result[\"name\"]\n",
        "                place[\"address\"] = result[\"vicinity\"]\n",
        "                place[\"lat\"] = result[\"geometry\"][\"location\"][\"lat\"]\n",
        "                place[\"lng\"] = result[\"geometry\"][\"location\"][\"lng\"]\n",
        "                place['rating'] = result['rating']\n",
        "                place['user_ratings_total'] = result['user_ratings_total']\n",
        "                result_dic_data.append(place)\n",
        "\n",
        "    #データフレームに変換\n",
        "    df = pd.DataFrame(result_dic_data)\n",
        "\n",
        "    #住所情報から市と区のカラムを取得\n",
        "    df[\"city\"] = df[\"address\"].apply(lambda x: x.split(\"市\")[0] if \"市\" in x else None)\n",
        "    df[\"district\"] = df[\"address\"].apply(lambda x: x.split(\"区\")[0].split(\"市\")[-1] if \"区\" in x else None)\n",
        "    df['city-district'] = '福岡市' + df['district'] + '区'\n",
        "    df['search_word'] = word\n",
        "\n",
        "    #検索で出た重複を排除\n",
        "    df = df.drop_duplicates('name').reset_index(drop=True)\n",
        "\n",
        "    #キーワードごとにcsvファイルに出力\n",
        "    df.to_csv('福岡市周辺の' + word + 'に関する位置情報.csv')"
      ]
    },
    {
      "cell_type": "markdown",
      "source": [
        "###Case3.   　地点名称周辺の施設情報検索（１地点）"
      ],
      "metadata": {
        "id": "XaKvSVo8jc03"
      }
    },
    {
      "cell_type": "markdown",
      "source": [
        "\n",
        "\n",
        "3.1   地点名から緯度,経度を取得する関数を定義\n",
        "\n"
      ],
      "metadata": {
        "id": "1Asz7qY6ka94"
      }
    },
    {
      "cell_type": "code",
      "source": [
        "#地点名から緯度と経度を取得する関数\n",
        "def Get_GioCode(place, api_key):\n",
        "    url = 'https://maps.googleapis.com/maps/api/geocode/json?address={}&key={}'.format(place, api_key)\n",
        "    response = requests.get(url)\n",
        "    data = json.loads(response.text)\n",
        "    latitude = data['results'][0]['geometry']['location']['lat']\n",
        "    longitude = data['results'][0]['geometry']['location']['lng']\n",
        "    location = str(latitude) + ',' + str(longitude)\n",
        "    return location"
      ],
      "metadata": {
        "id": "g_6RNTvxjp-8"
      },
      "execution_count": 92,
      "outputs": []
    },
    {
      "cell_type": "markdown",
      "source": [
        "\n",
        "\n",
        "3.2   パラメータの設定\n",
        "\n",
        "\n"
      ],
      "metadata": {
        "id": "-N5wjrxmlFmB"
      }
    },
    {
      "cell_type": "code",
      "source": [
        "#検索地点の設定\n",
        "place = '博多駅' \n",
        "\n",
        "#検索地点からの検索範囲を設定(m)\n",
        "radius = 5000 \n",
        "\n",
        "#今回の検索したい施設のキーワードを入力\n",
        "keyword = 'ジム'"
      ],
      "metadata": {
        "id": "bYQEFcfAlrBB"
      },
      "execution_count": null,
      "outputs": []
    },
    {
      "cell_type": "markdown",
      "source": [
        "\n",
        "\n",
        "3.3  データの抽出 \n",
        "\n"
      ],
      "metadata": {
        "id": "r6-DK0YLltlb"
      }
    },
    {
      "cell_type": "code",
      "source": [
        "#検索した後に整形した必要なデータの格納先\n",
        "result_dic_data = []\n",
        "\n",
        "# 博多駅の座標を取得\n",
        "location = Get_GioCode(place, api_key)\n",
        "\n",
        "#関数にパラメータを渡して検索データを取得\n",
        "results = Get_GioData(location, keyword, api_key, radius)\n",
        "\n",
        "#抽出データから必要なカラムを辞書形式で取得   \n",
        "for result in results:\n",
        "    place = {}\n",
        "    place[\"name\"] = result[\"name\"]\n",
        "    place[\"address\"] = result[\"vicinity\"]\n",
        "    place[\"lat\"] = result[\"geometry\"][\"location\"][\"lat\"]\n",
        "    place[\"lng\"] = result[\"geometry\"][\"location\"][\"lng\"]\n",
        "    place['rating'] = result['rating']\n",
        "    place['user_ratings_total'] = result['user_ratings_total']\n",
        "    result_dic_data.append(place)\n",
        "\n",
        "#データフレームに変換\n",
        "df = pd.DataFrame(result_dic_data)\n",
        "\n",
        "#住所情報から市と区のカラムを取得\n",
        "df[\"city\"] = df[\"address\"].apply(lambda x: x.split(\"市\")[0] if \"市\" in x else None)\n",
        "df[\"district\"] = df[\"address\"].apply(lambda x: x.split(\"区\")[0].split(\"市\")[-1] if \"区\" in x else None)\n",
        "df['city-district'] = '福岡市' + df['district'] + '区'\n",
        "df['search_word'] = keyword\n",
        "\n",
        "#検索で出た重複を排除\n",
        "df = df.drop_duplicates('name').reset_index(drop=True)\n",
        "\n",
        "#csvファイルに出力\n",
        "df.to_csv('福岡市周辺の' + keyword + 'に関する位置情報.csv')"
      ],
      "metadata": {
        "id": "jG6C0hCvlNAx"
      },
      "execution_count": null,
      "outputs": []
    },
    {
      "cell_type": "markdown",
      "source": [
        "## Case4 地点名称周辺の施設情報検索(複数地点)"
      ],
      "metadata": {
        "id": "UsJs2VjR2cCk"
      }
    },
    {
      "cell_type": "markdown",
      "source": [
        "\n",
        "\n",
        "4.1   パラメータの設定\n",
        "\n"
      ],
      "metadata": {
        "id": "vq7wa1WYpFB-"
      }
    },
    {
      "cell_type": "code",
      "source": [
        "#検索地点の設定\n",
        "location_name = ['博多駅', '西鉄天神駅','西鉄大橋駅','福岡自動車運転免許試験場','南福岡特別支援学校','福工大前駅','福岡市 貝塚駅',\n",
        "                 '博多南駅','マリンワールド' ,'唐人町駅','ビッグモーター西福岡店', '福岡市立早良中学校','福岡市 青葉公園','福岡市 西部運動公園',\n",
        "                 '姪浜駅', '九大学研都市駅', '福大前駅', '福岡海釣り公園', '博多の森','南福岡駅' ] \n",
        "\n",
        "#検索地点からの検索範囲を設定(m)\n",
        "radius = 5000 \n",
        "\n",
        "#今回の検索したい施設のキーワードを入力\n",
        "keyword = 'ジム'"
      ],
      "metadata": {
        "id": "Z5wTvPR7nvwc"
      },
      "execution_count": null,
      "outputs": []
    },
    {
      "cell_type": "markdown",
      "source": [
        "\n",
        "\n",
        "4.2  データの抽出 \n",
        "\n"
      ],
      "metadata": {
        "id": "qmWLM4yynvwi"
      }
    },
    {
      "cell_type": "code",
      "source": [
        "#検索した後に整形した必要なデータの格納先\n",
        "result_dic_data = []\n",
        "\n",
        "# 博多駅の座標を取得\n",
        "for locate in location_name:\n",
        "    location = Get_GioCode(locate, api_key)\n",
        "\n",
        "    results = Get_GioData(location, keyword, api_key, radius)\n",
        "\n",
        "#抽出データから必要なカラムを辞書形式で取得   \n",
        "    for result in results:\n",
        "        place = {}\n",
        "        place[\"name\"] = result[\"name\"]\n",
        "        place[\"address\"] = result[\"vicinity\"]\n",
        "        place[\"lat\"] = result[\"geometry\"][\"location\"][\"lat\"]\n",
        "        place[\"lng\"] = result[\"geometry\"][\"location\"][\"lng\"]\n",
        "        place['rating'] = result['rating']\n",
        "        place['user_ratings_total'] = result['user_ratings_total']\n",
        "        result_dic_data.append(place)\n",
        "\n",
        "#データフレームに変換\n",
        "df = pd.DataFrame(result_dic_data)\n",
        "\n",
        "#住所情報から市と区のカラムを取得\n",
        "df[\"city\"] = df[\"address\"].apply(lambda x: x.split(\"市\")[0] if \"市\" in x else None)\n",
        "df[\"district\"] = df[\"address\"].apply(lambda x: x.split(\"区\")[0].split(\"市\")[-1] if \"区\" in x else None)\n",
        "df['city-district'] = '福岡市' + df['district'] + '区'\n",
        "df['search_word'] = keyword\n",
        "\n",
        "#検索で出た重複を排除\n",
        "df = df.drop_duplicates('name').reset_index(drop=True)\n",
        "\n",
        "#csvファイルに出力\n",
        "df.to_csv('福岡市周辺の' + keyword + 'に関する位置情報.csv')"
      ],
      "metadata": {
        "id": "a2KEndIlnvwi"
      },
      "execution_count": null,
      "outputs": []
    },
    {
      "cell_type": "markdown",
      "source": [
        "## Appendix"
      ],
      "metadata": {
        "id": "syuLgg0aoxjI"
      }
    },
    {
      "cell_type": "markdown",
      "source": [
        "\n",
        "\n",
        "1.   Googke Places APIで抽出できるデータ項目\n",
        "\n"
      ],
      "metadata": {
        "id": "y1dOInRX2hLb"
      }
    },
    {
      "cell_type": "code",
      "source": [
        "locate = 'キャナルシティ博多'\n",
        "keyword = 'ラーメン'\n",
        "radius = 10000\n",
        "location = Get_GioCode(locate, api_key)\n",
        "search_result = Get_GioData(location, keyword, api_key, radius=50000)\n",
        "df = pd.DataFrame(search_result)\n",
        "df['latitude'] = df['geometry'].apply(lambda x: x['location']['lat'])\n",
        "df['longitude'] = df['geometry'].apply(lambda x: x['location']['lng'])\n",
        "df.drop(columns=['geometry'], inplace=True)\n",
        "df"
      ],
      "metadata": {
        "id": "i8uMtxyWvzwd"
      },
      "execution_count": null,
      "outputs": []
    },
    {
      "cell_type": "markdown",
      "source": [
        "\n",
        " {'business_status': 'OPERATIONAL',\n",
        " \n",
        " 'geometry': {'location': {'lat': 33.5928065, 'lng': 130.3855521},\n",
        " \n",
        "  'viewport': {'northeast': {'lat': 33.59412092989271,\n",
        "    'lng': 130.3871242798927},\n",
        "\n",
        "   'southwest': {'lat': 33.59142127010727, 'lng': 130.3844246201072}}},\n",
        " \n",
        " 'icon': 'https://maps.gstatic.com/mapfiles/place_api/icons/v1/png_71/generic_business-71.png',\n",
        "\n",
        " 'icon_background_color': '#7B9EB0',\n",
        "\n",
        " 'icon_mask_base_uri': 'https://maps.gstatic.com/mapfiles/place_api/icons/v2/generic_pinlet',\n",
        "\n",
        " 'name': '福岡市中央区24時間営業パーソナルジム【VISION24 福岡天神店】',\n",
        "\n",
        " 'opening_hours': {'open_now': True},\n",
        "\n",
        " 'photos': [{'height': 3888,\n",
        "   'html_attributions': ['<a href=\"https://maps.google.com/maps/contrib/102376585050495911523\">A Google User</a>'],\n",
        "\n",
        "'photo_reference':'AfLeUgNpwUPchx0Q45qhb0chkiJ9Cbe0IDNd0KvuEFGj807adaxSHcAwjkf4xl0aqxGOi4fFp4DY4YiYRdBaYihL3EwuhUHkhXMNW5LhZ1tEjTddF0ExMV94-K2Zqeu6KbeaR-kHaiNrZ1ZN1sD903ymlWrwaryhnKbWBiPO20htG9e7sDvF',\n",
        "   'width': 5184}],\n",
        "\n",
        " 'place_id': 'ChIJ_WZOWBGTQTUROlTqEPeYdjQ',\n",
        "\n",
        " 'plus_code': {'compound_code': 'H9VP+46 福岡市, 日本、福岡県',\n",
        "  'global_code': '8Q5GH9VP+46'},\n",
        "\n",
        " 'rating': 4.8,\n",
        "\n",
        " 'reference': 'ChIJ_WZOWBGTQTUROlTqEPeYdjQ',\n",
        "\n",
        " 'scope': 'GOOGLE',\n",
        "\n",
        " 'types': ['gym', 'health', 'store', 'point_of_interest', 'establishment'],\n",
        "\n",
        " 'user_ratings_total': 269,\n",
        "\n",
        " 'vicinity': '福岡市中央区港１丁目１０−５ キテラタウン長浜 ３F'"
      ],
      "metadata": {
        "id": "_cGzci-Iz3Xz"
      }
    },
    {
      "cell_type": "markdown",
      "source": [
        "\n",
        "2.   GeoCodingAPIで取得できるデータ項目\n",
        "\n"
      ],
      "metadata": {
        "id": "tjB5_VGusF1E"
      }
    },
    {
      "cell_type": "code",
      "source": [
        "from pandas.io.json import json_normalize\n",
        "place = '渋谷駅'\n",
        "url = 'https://maps.googleapis.com/maps/api/geocode/json?address={}&key={}&language=ja'.format(place, api_key)\n",
        "response = requests.get(url)\n",
        "data = json.loads(response.text)\n",
        "results = data['results']\n",
        "df = json_normalize(results, sep='_')\n",
        "df"
      ],
      "metadata": {
        "id": "ekOtSFT0sFbQ"
      },
      "execution_count": null,
      "outputs": []
    },
    {
      "cell_type": "code",
      "source": [
        "from pandas.io.json import json_normalize\n",
        "results = data['results']\n",
        "df = json_normalize(results, sep='_')\n",
        "df"
      ],
      "metadata": {
        "id": "5pQyGD1jtCX1"
      },
      "execution_count": null,
      "outputs": []
    },
    {
      "cell_type": "code",
      "source": [],
      "metadata": {
        "id": "JmzRx_kGtIDr"
      },
      "execution_count": null,
      "outputs": []
    }
  ],
  "metadata": {
    "colab": {
      "provenance": []
    },
    "kernelspec": {
      "display_name": "Python 3",
      "language": "python",
      "name": "python3"
    },
    "language_info": {
      "codemirror_mode": {
        "name": "ipython",
        "version": 3
      },
      "file_extension": ".py",
      "mimetype": "text/x-python",
      "name": "python",
      "nbconvert_exporter": "python",
      "pygments_lexer": "ipython3",
      "version": "3.7.6"
    }
  },
  "nbformat": 4,
  "nbformat_minor": 0
}